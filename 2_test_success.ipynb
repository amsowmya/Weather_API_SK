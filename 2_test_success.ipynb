{
 "cells": [
  {
   "cell_type": "code",
   "execution_count": 1,
   "metadata": {},
   "outputs": [],
   "source": [
    "import os"
   ]
  },
  {
   "cell_type": "code",
   "execution_count": 2,
   "metadata": {},
   "outputs": [
    {
     "data": {
      "text/plain": [
       "Kernel(plugins=KernelPluginCollection(plugins={}), prompt_template_engine=PromptTemplateEngine(), memory=NullMemory(), text_completion_services={'azure_gpt35_chat_completion': <function Kernel.add_text_completion_service.<locals>.<lambda> at 0x000001634A0828B0>}, chat_services={'azure_gpt35_chat_completion': <function Kernel.add_chat_service.<locals>.<lambda> at 0x0000016329789040>}, text_embedding_generation_services={}, default_text_completion_service='azure_gpt35_chat_completion', default_chat_service='azure_gpt35_chat_completion', default_text_embedding_generation_service=None, retry_mechanism=PassThroughWithoutRetry(), function_invoking_handlers={}, function_invoked_handlers={})"
      ]
     },
     "execution_count": 2,
     "metadata": {},
     "output_type": "execute_result"
    }
   ],
   "source": [
    "import os\n",
    "import semantic_kernel as sk\n",
    "from semantic_kernel.connectors.ai.open_ai import AzureChatCompletion\n",
    "from plugins.WeatherPlugin.Tasks import Tasks\n",
    "\n",
    "kernel = sk.Kernel()\n",
    "\n",
    "kernel.add_chat_service(\n",
    "    service_id=\"azure_gpt35_chat_completion\",\n",
    "    service = AzureChatCompletion(\n",
    "        deployment_name=os.getenv(\"AZURE_OPENAI_DEPLOYMENT_NAME\"),\n",
    "        endpoint=os.getenv(\"AZURE_OPENAI_ENDPOINT\"),\n",
    "        api_key=os.getenv(\"AZURE_OPENAI_API_KEY\")\n",
    "    )\n",
    ")\n"
   ]
  },
  {
   "cell_type": "code",
   "execution_count": 3,
   "metadata": {},
   "outputs": [],
   "source": [
    "plugin_directory = \"PublishingPlugin\"\n",
    "weatherFunction = kernel.import_semantic_plugin_from_directory(plugin_directory, \"WeatherPlugins\")"
   ]
  },
  {
   "cell_type": "code",
   "execution_count": 4,
   "metadata": {},
   "outputs": [],
   "source": [
    "weatherFunc = weatherFunction[\"Weather\"]"
   ]
  },
  {
   "cell_type": "code",
   "execution_count": 5,
   "metadata": {},
   "outputs": [
    {
     "data": {
      "text/plain": [
       "KernelFunction(plugin_name='WeatherPlugins', description='Give a proper answer', name='Weather', is_semantic=True, stream_function=<function KernelFunction.from_semantic_config.<locals>._local_stream_func at 0x000001634A082CA0>, parameters=[ParameterView(name='input', description='', default_value='', type_='string', required=False)], delegate_type=<DelegateTypes.ContextSwitchInKernelContextOutTaskKernelContext: 7>, function=<function KernelFunction.from_semantic_config.<locals>._local_func at 0x000001632975BD30>, plugins=KernelPluginCollection(plugins={'WeatherPlugins': KernelPlugin(name='WeatherPlugins', description=None, functions={'Weather': KernelFunction(plugin_name='WeatherPlugins', description='Give a proper answer', name='Weather', is_semantic=True, stream_function=<function KernelFunction.from_semantic_config.<locals>._local_stream_func at 0x000001634A082CA0>, parameters=[ParameterView(name='input', description='', default_value='', type_='string', required=False)], delegate_type=<DelegateTypes.ContextSwitchInKernelContextOutTaskKernelContext: 7>, function=<function KernelFunction.from_semantic_config.<locals>._local_func at 0x000001632975BD30>, plugins=KernelPluginCollection(plugins={...}), ai_service=AzureChatCompletion(ai_model_id='atttestgpt35turbo', client=<openai.lib.azure.AsyncAzureOpenAI object at 0x0000016329764D90>, ai_model_type=<OpenAIModelTypes.CHAT: 'chat'>, prompt_tokens=0, completion_tokens=0, total_tokens=0), prompt_execution_settings=AzureChatPromptExecutionSettings(service_id=None, extension_data={}, ai_model_id=None, frequency_penalty=0.0, logit_bias={}, max_tokens=256, number_of_responses=1, presence_penalty=0.0, seed=None, stop=None, stream=False, temperature=0.0, top_p=1.0, user=None, response_format=None, tools=None, tool_choice=None, function_call=None, functions=None, messages=None, extra_body=None), chat_prompt_template=None)})}), ai_service=AzureChatCompletion(ai_model_id='atttestgpt35turbo', client=<openai.lib.azure.AsyncAzureOpenAI object at 0x0000016329764D90>, ai_model_type=<OpenAIModelTypes.CHAT: 'chat'>, prompt_tokens=0, completion_tokens=0, total_tokens=0), prompt_execution_settings=AzureChatPromptExecutionSettings(service_id=None, extension_data={}, ai_model_id=None, frequency_penalty=0.0, logit_bias={}, max_tokens=256, number_of_responses=1, presence_penalty=0.0, seed=None, stop=None, stream=False, temperature=0.0, top_p=1.0, user=None, response_format=None, tools=None, tool_choice=None, function_call=None, functions=None, messages=None, extra_body=None), chat_prompt_template=None)"
      ]
     },
     "execution_count": 5,
     "metadata": {},
     "output_type": "execute_result"
    }
   ],
   "source": [
    "weatherFunc"
   ]
  },
  {
   "cell_type": "code",
   "execution_count": 6,
   "metadata": {},
   "outputs": [],
   "source": [
    "result = await weatherFunc.invoke(\"Which is the capital of India\")"
   ]
  },
  {
   "cell_type": "code",
   "execution_count": 7,
   "metadata": {},
   "outputs": [
    {
     "name": "stdout",
     "output_type": "stream",
     "text": [
      "The capital of India is New Delhi.\n"
     ]
    }
   ],
   "source": [
    "print(result)"
   ]
  },
  {
   "cell_type": "code",
   "execution_count": null,
   "metadata": {},
   "outputs": [],
   "source": []
  },
  {
   "cell_type": "markdown",
   "metadata": {},
   "source": [
    "# GET RESPONSE FROM WEATHER API"
   ]
  },
  {
   "cell_type": "code",
   "execution_count": 8,
   "metadata": {},
   "outputs": [
    {
     "data": {
      "text/plain": [
       "Kernel(plugins=KernelPluginCollection(plugins={}), prompt_template_engine=PromptTemplateEngine(), memory=NullMemory(), text_completion_services={'azure_gpt35_chat_completion': <function Kernel.add_text_completion_service.<locals>.<lambda> at 0x000001634A17D940>}, chat_services={'azure_gpt35_chat_completion': <function Kernel.add_chat_service.<locals>.<lambda> at 0x000001634A12EE50>}, text_embedding_generation_services={}, default_text_completion_service='azure_gpt35_chat_completion', default_chat_service='azure_gpt35_chat_completion', default_text_embedding_generation_service=None, retry_mechanism=PassThroughWithoutRetry(), function_invoking_handlers={}, function_invoked_handlers={})"
      ]
     },
     "execution_count": 8,
     "metadata": {},
     "output_type": "execute_result"
    }
   ],
   "source": [
    "import os\n",
    "import semantic_kernel as sk\n",
    "from semantic_kernel.connectors.ai.open_ai import AzureChatCompletion\n",
    "from plugins.WeatherPlugin.Tasks import Tasks\n",
    "\n",
    "kernel = sk.Kernel()\n",
    "\n",
    "kernel.add_chat_service(\n",
    "    service_id=\"azure_gpt35_chat_completion\",\n",
    "    service = AzureChatCompletion(\n",
    "        deployment_name=os.getenv(\"AZURE_OPENAI_DEPLOYMENT_NAME\"),\n",
    "        endpoint=os.getenv(\"AZURE_OPENAI_ENDPOINT\"),\n",
    "        api_key=os.getenv(\"AZURE_OPENAI_API_KEY\")\n",
    "    )\n",
    ")"
   ]
  },
  {
   "cell_type": "code",
   "execution_count": 9,
   "metadata": {},
   "outputs": [],
   "source": [
    "from plugins.WeatherPlugin.Tasks import Tasks\n",
    "\n",
    "task_plugin = kernel.import_plugin(Tasks(), \"WeatherPlugin\")"
   ]
  },
  {
   "cell_type": "code",
   "execution_count": 10,
   "metadata": {},
   "outputs": [
    {
     "data": {
      "text/plain": [
       "KernelPlugin(name='WeatherPlugin', description=None, functions={'getCityWeather': KernelFunction(plugin_name='WeatherPlugin', description='Get the weather for a city info.', name='getCityWeather', is_semantic=False, stream_function=<bound method Tasks.getCityWeatherHelper of <plugins.WeatherPlugin.Tasks.Tasks object at 0x000001634A179910>>, parameters=[ParameterView(name='city_name', description='The weather of the city', default_value='', type_='string', required=False)], delegate_type=<DelegateTypes.InStringOutString: 9>, function=<bound method Tasks.getCityWeatherHelper of <plugins.WeatherPlugin.Tasks.Tasks object at 0x000001634A179910>>, plugins=KernelPluginCollection(plugins={'WeatherPlugin': KernelPlugin(name='WeatherPlugin', description=None, functions={...})}), ai_service=None, prompt_execution_settings=PromptExecutionSettings(service_id=None, extension_data={}), chat_prompt_template=None)})"
      ]
     },
     "execution_count": 10,
     "metadata": {},
     "output_type": "execute_result"
    }
   ],
   "source": [
    "task_plugin"
   ]
  },
  {
   "cell_type": "code",
   "execution_count": 11,
   "metadata": {},
   "outputs": [
    {
     "name": "stdout",
     "output_type": "stream",
     "text": [
      "KernelFunction(plugin_name='WeatherPlugin', description='Get the weather for a city info.', name='getCityWeather', is_semantic=False, stream_function=<bound method Tasks.getCityWeatherHelper of <plugins.WeatherPlugin.Tasks.Tasks object at 0x000001634A179910>>, parameters=[ParameterView(name='city_name', description='The weather of the city', default_value='', type_='string', required=False)], delegate_type=<DelegateTypes.InStringOutString: 9>, function=<bound method Tasks.getCityWeatherHelper of <plugins.WeatherPlugin.Tasks.Tasks object at 0x000001634A179910>>, plugins=KernelPluginCollection(plugins={'WeatherPlugin': KernelPlugin(name='WeatherPlugin', description=None, functions={'getCityWeather': KernelFunction(plugin_name='WeatherPlugin', description='Get the weather for a city info.', name='getCityWeather', is_semantic=False, stream_function=<bound method Tasks.getCityWeatherHelper of <plugins.WeatherPlugin.Tasks.Tasks object at 0x000001634A179910>>, parameters=[ParameterView(name='city_name', description='The weather of the city', default_value='', type_='string', required=False)], delegate_type=<DelegateTypes.InStringOutString: 9>, function=<bound method Tasks.getCityWeatherHelper of <plugins.WeatherPlugin.Tasks.Tasks object at 0x000001634A179910>>, plugins=KernelPluginCollection(plugins={...}), ai_service=None, prompt_execution_settings=PromptExecutionSettings(service_id=None, extension_data={}), chat_prompt_template=None)})}), ai_service=None, prompt_execution_settings=PromptExecutionSettings(service_id=None, extension_data={}), chat_prompt_template=None)\n"
     ]
    }
   ],
   "source": [
    "from pprint import pprint\n",
    "\n",
    "pprint(task_plugin[\"getCityWeather\"])"
   ]
  },
  {
   "cell_type": "code",
   "execution_count": 12,
   "metadata": {},
   "outputs": [],
   "source": [
    "task = task_plugin[\"getCityWeather\"]"
   ]
  },
  {
   "cell_type": "code",
   "execution_count": 13,
   "metadata": {},
   "outputs": [
    {
     "data": {
      "text/plain": [
       "KernelFunction(plugin_name='WeatherPlugin', description='Get the weather for a city info.', name='getCityWeather', is_semantic=False, stream_function=<bound method Tasks.getCityWeatherHelper of <plugins.WeatherPlugin.Tasks.Tasks object at 0x000001634A179910>>, parameters=[ParameterView(name='city_name', description='The weather of the city', default_value='', type_='string', required=False)], delegate_type=<DelegateTypes.InStringOutString: 9>, function=<bound method Tasks.getCityWeatherHelper of <plugins.WeatherPlugin.Tasks.Tasks object at 0x000001634A179910>>, plugins=KernelPluginCollection(plugins={'WeatherPlugin': KernelPlugin(name='WeatherPlugin', description=None, functions={'getCityWeather': KernelFunction(plugin_name='WeatherPlugin', description='Get the weather for a city info.', name='getCityWeather', is_semantic=False, stream_function=<bound method Tasks.getCityWeatherHelper of <plugins.WeatherPlugin.Tasks.Tasks object at 0x000001634A179910>>, parameters=[ParameterView(name='city_name', description='The weather of the city', default_value='', type_='string', required=False)], delegate_type=<DelegateTypes.InStringOutString: 9>, function=<bound method Tasks.getCityWeatherHelper of <plugins.WeatherPlugin.Tasks.Tasks object at 0x000001634A179910>>, plugins=KernelPluginCollection(plugins={...}), ai_service=None, prompt_execution_settings=PromptExecutionSettings(service_id=None, extension_data={}), chat_prompt_template=None)})}), ai_service=None, prompt_execution_settings=PromptExecutionSettings(service_id=None, extension_data={}), chat_prompt_template=None)"
      ]
     },
     "execution_count": 13,
     "metadata": {},
     "output_type": "execute_result"
    }
   ],
   "source": [
    "task"
   ]
  },
  {
   "cell_type": "code",
   "execution_count": 14,
   "metadata": {},
   "outputs": [
    {
     "name": "stdout",
     "output_type": "stream",
     "text": [
      "+++++++++++++++++++++++++++\n",
      "Bangalore\n",
      "http://api.openweathermap.org/data/2.5/weather?q=Bangalore&appid=3f10a136a31000a75a9af90f69f01b84&units=metric\n"
     ]
    }
   ],
   "source": [
    "result = await task.invoke(\"Bangalore\")"
   ]
  },
  {
   "cell_type": "code",
   "execution_count": 15,
   "metadata": {},
   "outputs": [
    {
     "data": {
      "text/plain": [
       "KernelContext(memory=NullMemory(), variables=ContextVariables(variables={'input': '{\"coord\": {\"lon\": 77.6033, \"lat\": 12.9762}, \"weather\": [{\"id\": 801, \"main\": \"Clouds\", \"description\": \"few clouds\", \"icon\": \"02n\"}], \"base\": \"stations\", \"main\": {\"temp\": 19.8, \"feels_like\": 20, \"temp_min\": 17.9, \"temp_max\": 19.8, \"pressure\": 1019, \"humidity\": 83}, \"visibility\": 6000, \"wind\": {\"speed\": 4.63, \"deg\": 80}, \"clouds\": {\"all\": 20}, \"dt\": 1708117580, \"sys\": {\"type\": 1, \"id\": 9205, \"country\": \"IN\", \"sunrise\": 1708132306, \"sunset\": 1708174548}, \"timezone\": 19800, \"id\": 1277333, \"name\": \"Bengaluru\", \"cod\": 200}'}), plugins=KernelPluginCollection(plugins={'WeatherPlugin': KernelPlugin(name='WeatherPlugin', description=None, functions={'getCityWeather': KernelFunction(plugin_name='WeatherPlugin', description='Get the weather for a city info.', name='getCityWeather', is_semantic=False, stream_function=<bound method Tasks.getCityWeatherHelper of <plugins.WeatherPlugin.Tasks.Tasks object at 0x000001634A179910>>, parameters=[ParameterView(name='city_name', description='The weather of the city', default_value='', type_='string', required=False)], delegate_type=<DelegateTypes.InStringOutString: 9>, function=<bound method Tasks.getCityWeatherHelper of <plugins.WeatherPlugin.Tasks.Tasks object at 0x000001634A179910>>, plugins=KernelPluginCollection(plugins={...}), ai_service=None, prompt_execution_settings=PromptExecutionSettings(service_id=None, extension_data={}), chat_prompt_template=None)})}))"
      ]
     },
     "execution_count": 15,
     "metadata": {},
     "output_type": "execute_result"
    }
   ],
   "source": [
    "result"
   ]
  },
  {
   "cell_type": "code",
   "execution_count": 16,
   "metadata": {},
   "outputs": [
    {
     "name": "stdout",
     "output_type": "stream",
     "text": [
      "{\"coord\": {\"lon\": 77.6033, \"lat\": 12.9762}, \"weather\": [{\"id\": 801, \"main\": \"Clouds\", \"description\": \"few clouds\", \"icon\": \"02n\"}], \"base\": \"stations\", \"main\": {\"temp\": 19.8, \"feels_like\": 20, \"temp_min\": 17.9, \"temp_max\": 19.8, \"pressure\": 1019, \"humidity\": 83}, \"visibility\": 6000, \"wind\": {\"speed\": 4.63, \"deg\": 80}, \"clouds\": {\"all\": 20}, \"dt\": 1708117580, \"sys\": {\"type\": 1, \"id\": 9205, \"country\": \"IN\", \"sunrise\": 1708132306, \"sunset\": 1708174548}, \"timezone\": 19800, \"id\": 1277333, \"name\": \"Bengaluru\", \"cod\": 200}\n"
     ]
    }
   ],
   "source": [
    "print(result)"
   ]
  },
  {
   "cell_type": "code",
   "execution_count": 26,
   "metadata": {},
   "outputs": [
    {
     "data": {
      "text/plain": [
       "['azure_gpt35_chat_completion']"
      ]
     },
     "execution_count": 26,
     "metadata": {},
     "output_type": "execute_result"
    }
   ],
   "source": [
    "kernel.all_chat_services()"
   ]
  },
  {
   "cell_type": "markdown",
   "metadata": {},
   "source": [
    "# PLANNER"
   ]
  },
  {
   "cell_type": "markdown",
   "metadata": {},
   "source": [
    "### 1. Basic Planner"
   ]
  },
  {
   "cell_type": "code",
   "execution_count": 27,
   "metadata": {},
   "outputs": [],
   "source": [
    "from semantic_kernel.planning.basic_planner import BasicPlanner\n",
    "planner = BasicPlanner()"
   ]
  },
  {
   "cell_type": "code",
   "execution_count": 28,
   "metadata": {},
   "outputs": [],
   "source": [
    "question = \"New york\"\n",
    "plan = await planner.create_plan(question, kernel)"
   ]
  },
  {
   "cell_type": "code",
   "execution_count": 29,
   "metadata": {},
   "outputs": [
    {
     "name": "stdout",
     "output_type": "stream",
     "text": [
      "+++++++++++++++++++++++++++\n",
      "New York\n",
      "http://api.openweathermap.org/data/2.5/weather?q=New York&appid=3f10a136a31000a75a9af90f69f01b84&units=metric\n"
     ]
    }
   ],
   "source": [
    "final_result = await planner.execute_plan(plan, kernel)"
   ]
  },
  {
   "cell_type": "code",
   "execution_count": 30,
   "metadata": {},
   "outputs": [
    {
     "name": "stdout",
     "output_type": "stream",
     "text": [
      "{\"coord\": {\"lon\": -74.006, \"lat\": 40.7143}, \"weather\": [{\"id\": 801, \"main\": \"Clouds\", \"description\": \"few clouds\", \"icon\": \"02d\"}], \"base\": \"stations\", \"main\": {\"temp\": 5.56, \"feels_like\": 0.53, \"temp_min\": 3.87, \"temp_max\": 6.72, \"pressure\": 1013, \"humidity\": 33}, \"visibility\": 10000, \"wind\": {\"speed\": 9.26, \"deg\": 310, \"gust\": 11.32}, \"clouds\": {\"all\": 20}, \"dt\": 1708117561, \"sys\": {\"type\": 2, \"id\": 2008776, \"country\": \"US\", \"sunrise\": 1708084171, \"sunset\": 1708122660}, \"timezone\": -18000, \"id\": 5128581, \"name\": \"New York\", \"cod\": 200}\n"
     ]
    }
   ],
   "source": [
    "print(final_result)"
   ]
  },
  {
   "cell_type": "markdown",
   "metadata": {},
   "source": [
    "### 2. Stepwise Planner"
   ]
  },
  {
   "cell_type": "code",
   "execution_count": 31,
   "metadata": {},
   "outputs": [
    {
     "ename": "ValueError",
     "evalue": "Function with name 'StepwiseStep' already exists in plugin 'StepwisePlanner'",
     "output_type": "error",
     "traceback": [
      "\u001b[1;31m---------------------------------------------------------------------------\u001b[0m",
      "\u001b[1;31mValueError\u001b[0m                                Traceback (most recent call last)",
      "Cell \u001b[1;32mIn[31], line 2\u001b[0m\n\u001b[0;32m      1\u001b[0m \u001b[38;5;28;01mfrom\u001b[39;00m \u001b[38;5;21;01msemantic_kernel\u001b[39;00m\u001b[38;5;21;01m.\u001b[39;00m\u001b[38;5;21;01mplanning\u001b[39;00m\u001b[38;5;21;01m.\u001b[39;00m\u001b[38;5;21;01mstepwise_planner\u001b[39;00m \u001b[38;5;28;01mimport\u001b[39;00m StepwisePlanner\n\u001b[1;32m----> 2\u001b[0m sw_planner \u001b[38;5;241m=\u001b[39m \u001b[43mStepwisePlanner\u001b[49m\u001b[43m(\u001b[49m\u001b[43mkernel\u001b[49m\u001b[43m)\u001b[49m\n",
      "File \u001b[1;32me:\\2024_GenAI\\SampleProjects\\2_weather_api_sk\\weather\\lib\\site-packages\\semantic_kernel\\planning\\stepwise_planner\\stepwise_planner.py:91\u001b[0m, in \u001b[0;36mStepwisePlanner.__init__\u001b[1;34m(self, kernel, config, prompt, prompt_user_config)\u001b[0m\n\u001b[0;32m     87\u001b[0m     prompt_config \u001b[38;5;241m=\u001b[39m PromptTemplateConfig\u001b[38;5;241m.\u001b[39mfrom_json(read_file(PROMPT_CONFIG_FILE_PATH))\n\u001b[0;32m     89\u001b[0m prompt_config\u001b[38;5;241m.\u001b[39mexecution_settings\u001b[38;5;241m.\u001b[39mextension_data[\u001b[38;5;124m\"\u001b[39m\u001b[38;5;124mmax_tokens\u001b[39m\u001b[38;5;124m\"\u001b[39m] \u001b[38;5;241m=\u001b[39m \u001b[38;5;28mself\u001b[39m\u001b[38;5;241m.\u001b[39mconfig\u001b[38;5;241m.\u001b[39mmax_tokens\n\u001b[1;32m---> 91\u001b[0m \u001b[38;5;28mself\u001b[39m\u001b[38;5;241m.\u001b[39m_system_step_function \u001b[38;5;241m=\u001b[39m \u001b[38;5;28;43mself\u001b[39;49m\u001b[38;5;241;43m.\u001b[39;49m\u001b[43mimport_semantic_function\u001b[49m\u001b[43m(\u001b[49m\n\u001b[0;32m     92\u001b[0m \u001b[43m    \u001b[49m\u001b[43mkernel\u001b[49m\u001b[43m,\u001b[49m\u001b[43m \u001b[49m\u001b[38;5;124;43m\"\u001b[39;49m\u001b[38;5;124;43mStepwiseStep\u001b[39;49m\u001b[38;5;124;43m\"\u001b[39;49m\u001b[43m,\u001b[49m\u001b[43m \u001b[49m\u001b[43mprompt_template\u001b[49m\u001b[43m,\u001b[49m\u001b[43m \u001b[49m\u001b[43mprompt_config\u001b[49m\n\u001b[0;32m     93\u001b[0m \u001b[43m\u001b[49m\u001b[43m)\u001b[49m\n\u001b[0;32m     94\u001b[0m \u001b[38;5;28mself\u001b[39m\u001b[38;5;241m.\u001b[39m_native_functions \u001b[38;5;241m=\u001b[39m \u001b[38;5;28mself\u001b[39m\u001b[38;5;241m.\u001b[39m_kernel\u001b[38;5;241m.\u001b[39mimport_plugin(\u001b[38;5;28mself\u001b[39m, RESTRICTED_PLUGIN_NAME)\n\u001b[0;32m     96\u001b[0m \u001b[38;5;28mself\u001b[39m\u001b[38;5;241m.\u001b[39m_context \u001b[38;5;241m=\u001b[39m kernel\u001b[38;5;241m.\u001b[39mcreate_new_context()\n",
      "File \u001b[1;32me:\\2024_GenAI\\SampleProjects\\2_weather_api_sk\\weather\\lib\\site-packages\\semantic_kernel\\planning\\stepwise_planner\\stepwise_planner.py:380\u001b[0m, in \u001b[0;36mStepwisePlanner.import_semantic_function\u001b[1;34m(self, kernel, function_name, prompt_template, config)\u001b[0m\n\u001b[0;32m    377\u001b[0m template \u001b[38;5;241m=\u001b[39m PromptTemplate(prompt_template, kernel\u001b[38;5;241m.\u001b[39mprompt_template_engine, config)\n\u001b[0;32m    378\u001b[0m function_config \u001b[38;5;241m=\u001b[39m SemanticFunctionConfig(config, template)\n\u001b[1;32m--> 380\u001b[0m \u001b[38;5;28;01mreturn\u001b[39;00m \u001b[43mkernel\u001b[49m\u001b[38;5;241;43m.\u001b[39;49m\u001b[43mregister_semantic_function\u001b[49m\u001b[43m(\u001b[49m\u001b[43mRESTRICTED_PLUGIN_NAME\u001b[49m\u001b[43m,\u001b[49m\u001b[43m \u001b[49m\u001b[43mfunction_name\u001b[49m\u001b[43m,\u001b[49m\u001b[43m \u001b[49m\u001b[43mfunction_config\u001b[49m\u001b[43m)\u001b[49m\n",
      "File \u001b[1;32me:\\2024_GenAI\\SampleProjects\\2_weather_api_sk\\weather\\lib\\site-packages\\semantic_kernel\\kernel.py:172\u001b[0m, in \u001b[0;36mKernel.register_semantic_function\u001b[1;34m(self, plugin_name, function_name, function_config)\u001b[0m\n\u001b[0;32m    169\u001b[0m validate_function_name(function_name)\n\u001b[0;32m    171\u001b[0m function \u001b[38;5;241m=\u001b[39m \u001b[38;5;28mself\u001b[39m\u001b[38;5;241m.\u001b[39m_create_semantic_function(plugin_name, function_name, function_config)\n\u001b[1;32m--> 172\u001b[0m \u001b[38;5;28;43mself\u001b[39;49m\u001b[38;5;241;43m.\u001b[39;49m\u001b[43madd_plugin\u001b[49m\u001b[43m(\u001b[49m\u001b[43mplugin_name\u001b[49m\u001b[43m,\u001b[49m\u001b[43m \u001b[49m\u001b[43m[\u001b[49m\u001b[43mfunction\u001b[49m\u001b[43m]\u001b[49m\u001b[43m)\u001b[49m\n\u001b[0;32m    173\u001b[0m function\u001b[38;5;241m.\u001b[39mset_default_plugin_collection(\u001b[38;5;28mself\u001b[39m\u001b[38;5;241m.\u001b[39mplugins)\n\u001b[0;32m    175\u001b[0m \u001b[38;5;28;01mreturn\u001b[39;00m function\n",
      "File \u001b[1;32me:\\2024_GenAI\\SampleProjects\\2_weather_api_sk\\weather\\lib\\site-packages\\semantic_kernel\\kernel.py:140\u001b[0m, in \u001b[0;36mKernel.add_plugin\u001b[1;34m(self, plugin_name, functions, plugin)\u001b[0m\n\u001b[0;32m    137\u001b[0m     plugin \u001b[38;5;241m=\u001b[39m KernelPlugin(name\u001b[38;5;241m=\u001b[39mplugin_name, functions\u001b[38;5;241m=\u001b[39mfunctions)\n\u001b[0;32m    139\u001b[0m \u001b[38;5;28;01mif\u001b[39;00m plugin_name \u001b[38;5;129;01min\u001b[39;00m \u001b[38;5;28mself\u001b[39m\u001b[38;5;241m.\u001b[39mplugins:\n\u001b[1;32m--> 140\u001b[0m     \u001b[38;5;28;43mself\u001b[39;49m\u001b[38;5;241;43m.\u001b[39;49m\u001b[43mplugins\u001b[49m\u001b[38;5;241;43m.\u001b[39;49m\u001b[43madd_functions_to_plugin\u001b[49m\u001b[43m(\u001b[49m\u001b[43mfunctions\u001b[49m\u001b[38;5;241;43m=\u001b[39;49m\u001b[43mfunctions\u001b[49m\u001b[43m,\u001b[49m\u001b[43m \u001b[49m\u001b[43mplugin_name\u001b[49m\u001b[38;5;241;43m=\u001b[39;49m\u001b[43mplugin_name\u001b[49m\u001b[43m)\u001b[49m\n\u001b[0;32m    141\u001b[0m \u001b[38;5;28;01melse\u001b[39;00m:\n\u001b[0;32m    142\u001b[0m     \u001b[38;5;28mself\u001b[39m\u001b[38;5;241m.\u001b[39mplugins\u001b[38;5;241m.\u001b[39madd(plugin)\n",
      "File \u001b[1;32me:\\2024_GenAI\\SampleProjects\\2_weather_api_sk\\weather\\lib\\site-packages\\semantic_kernel\\plugin_definition\\kernel_plugin_collection.py:120\u001b[0m, in \u001b[0;36mKernelPluginCollection.add_functions_to_plugin\u001b[1;34m(self, functions, plugin_name)\u001b[0m\n\u001b[0;32m    118\u001b[0m \u001b[38;5;28;01mfor\u001b[39;00m func \u001b[38;5;129;01min\u001b[39;00m functions:\n\u001b[0;32m    119\u001b[0m     \u001b[38;5;28;01mif\u001b[39;00m func\u001b[38;5;241m.\u001b[39mname \u001b[38;5;129;01min\u001b[39;00m plugin\u001b[38;5;241m.\u001b[39mfunctions:\n\u001b[1;32m--> 120\u001b[0m         \u001b[38;5;28;01mraise\u001b[39;00m \u001b[38;5;167;01mValueError\u001b[39;00m(\u001b[38;5;124mf\u001b[39m\u001b[38;5;124m\"\u001b[39m\u001b[38;5;124mFunction with name \u001b[39m\u001b[38;5;124m'\u001b[39m\u001b[38;5;132;01m{\u001b[39;00mfunc\u001b[38;5;241m.\u001b[39mname\u001b[38;5;132;01m}\u001b[39;00m\u001b[38;5;124m'\u001b[39m\u001b[38;5;124m already exists in plugin \u001b[39m\u001b[38;5;124m'\u001b[39m\u001b[38;5;132;01m{\u001b[39;00mplugin_name\u001b[38;5;132;01m}\u001b[39;00m\u001b[38;5;124m'\u001b[39m\u001b[38;5;124m\"\u001b[39m)\n\u001b[0;32m    121\u001b[0m     plugin\u001b[38;5;241m.\u001b[39mfunctions[func\u001b[38;5;241m.\u001b[39mname] \u001b[38;5;241m=\u001b[39m func\n",
      "\u001b[1;31mValueError\u001b[0m: Function with name 'StepwiseStep' already exists in plugin 'StepwisePlanner'"
     ]
    }
   ],
   "source": [
    "from semantic_kernel.planning.stepwise_planner import StepwisePlanner\n",
    "sw_planner = StepwisePlanner(kernel)"
   ]
  },
  {
   "cell_type": "code",
   "execution_count": 32,
   "metadata": {},
   "outputs": [
    {
     "ename": "TypeError",
     "evalue": "create_plan() takes 2 positional arguments but 3 were given",
     "output_type": "error",
     "traceback": [
      "\u001b[1;31m---------------------------------------------------------------------------\u001b[0m",
      "\u001b[1;31mTypeError\u001b[0m                                 Traceback (most recent call last)",
      "Cell \u001b[1;32mIn[32], line 2\u001b[0m\n\u001b[0;32m      1\u001b[0m question \u001b[38;5;241m=\u001b[39m \u001b[38;5;124m\"\u001b[39m\u001b[38;5;124mCanada\u001b[39m\u001b[38;5;124m\"\u001b[39m\n\u001b[1;32m----> 2\u001b[0m plan \u001b[38;5;241m=\u001b[39m \u001b[38;5;28;01mawait\u001b[39;00m sw_planner\u001b[38;5;241m.\u001b[39mcreate_plan(question, kernel)\n",
      "\u001b[1;31mTypeError\u001b[0m: create_plan() takes 2 positional arguments but 3 were given"
     ]
    }
   ],
   "source": [
    "question = \"Canada\"\n",
    "plan = await sw_planner.create_plan(question, kernel)"
   ]
  },
  {
   "cell_type": "code",
   "execution_count": null,
   "metadata": {},
   "outputs": [],
   "source": []
  }
 ],
 "metadata": {
  "kernelspec": {
   "display_name": "Python 3",
   "language": "python",
   "name": "python3"
  },
  "language_info": {
   "codemirror_mode": {
    "name": "ipython",
    "version": 3
   },
   "file_extension": ".py",
   "mimetype": "text/x-python",
   "name": "python",
   "nbconvert_exporter": "python",
   "pygments_lexer": "ipython3",
   "version": "3.9.18"
  }
 },
 "nbformat": 4,
 "nbformat_minor": 2
}
