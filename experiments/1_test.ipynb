{
 "cells": [
  {
   "cell_type": "code",
   "execution_count": 1,
   "metadata": {},
   "outputs": [],
   "source": [
    "import os"
   ]
  },
  {
   "cell_type": "code",
   "execution_count": 2,
   "metadata": {},
   "outputs": [
    {
     "data": {
      "text/plain": [
       "Kernel(plugins=KernelPluginCollection(plugins={}), prompt_template_engine=PromptTemplateEngine(), memory=NullMemory(), text_completion_services={'azure_gpt35_chat_completion': <function Kernel.add_text_completion_service.<locals>.<lambda> at 0x000001A4FDE05A60>}, chat_services={'azure_gpt35_chat_completion': <function Kernel.add_chat_service.<locals>.<lambda> at 0x000001A4DD504700>}, text_embedding_generation_services={}, default_text_completion_service='azure_gpt35_chat_completion', default_chat_service='azure_gpt35_chat_completion', default_text_embedding_generation_service=None, retry_mechanism=PassThroughWithoutRetry(), function_invoking_handlers={}, function_invoked_handlers={})"
      ]
     },
     "execution_count": 2,
     "metadata": {},
     "output_type": "execute_result"
    }
   ],
   "source": [
    "import os\n",
    "import semantic_kernel as sk\n",
    "from semantic_kernel.connectors.ai.open_ai import AzureChatCompletion\n",
    "from plugins.WeatherPlugin.Tasks import Tasks\n",
    "\n",
    "kernel = sk.Kernel()\n",
    "\n",
    "kernel.add_chat_service(\n",
    "    service_id=\"azure_gpt35_chat_completion\",\n",
    "    service = AzureChatCompletion(\n",
    "        deployment_name=os.getenv(\"AZURE_OPENAI_DEPLOYMENT_NAME\"),\n",
    "        endpoint=os.getenv(\"AZURE_OPENAI_ENDPOINT\"),\n",
    "        api_key=os.getenv(\"AZURE_OPENAI_API_KEY\")\n",
    "    )\n",
    ")\n"
   ]
  },
  {
   "cell_type": "code",
   "execution_count": 3,
   "metadata": {},
   "outputs": [],
   "source": [
    "plugin_directory = \"PublishingPlugin\"\n",
    "weatherFunction = kernel.import_semantic_plugin_from_directory(plugin_directory, \"WeatherPlugins\")"
   ]
  },
  {
   "cell_type": "code",
   "execution_count": 4,
   "metadata": {},
   "outputs": [],
   "source": [
    "weatherFunc = weatherFunction[\"Weather\"]"
   ]
  },
  {
   "cell_type": "code",
   "execution_count": 5,
   "metadata": {},
   "outputs": [
    {
     "data": {
      "text/plain": [
       "KernelFunction(plugin_name='WeatherPlugins', description='Give a proper answer', name='Weather', is_semantic=True, stream_function=<function KernelFunction.from_semantic_config.<locals>._local_stream_func at 0x000001A4DD4DCE50>, parameters=[ParameterView(name='input', description='', default_value='', type_='string', required=False)], delegate_type=<DelegateTypes.ContextSwitchInKernelContextOutTaskKernelContext: 7>, function=<function KernelFunction.from_semantic_config.<locals>._local_func at 0x000001A4DD504310>, plugins=KernelPluginCollection(plugins={'WeatherPlugins': KernelPlugin(name='WeatherPlugins', description=None, functions={'Weather': KernelFunction(plugin_name='WeatherPlugins', description='Give a proper answer', name='Weather', is_semantic=True, stream_function=<function KernelFunction.from_semantic_config.<locals>._local_stream_func at 0x000001A4DD4DCE50>, parameters=[ParameterView(name='input', description='', default_value='', type_='string', required=False)], delegate_type=<DelegateTypes.ContextSwitchInKernelContextOutTaskKernelContext: 7>, function=<function KernelFunction.from_semantic_config.<locals>._local_func at 0x000001A4DD504310>, plugins=KernelPluginCollection(plugins={...}), ai_service=AzureChatCompletion(ai_model_id='atttestgpt35turbo', client=<openai.lib.azure.AsyncAzureOpenAI object at 0x000001A4FDBB9940>, ai_model_type=<OpenAIModelTypes.CHAT: 'chat'>, prompt_tokens=0, completion_tokens=0, total_tokens=0), prompt_execution_settings=AzureChatPromptExecutionSettings(service_id=None, extension_data={}, ai_model_id=None, frequency_penalty=0.0, logit_bias={}, max_tokens=256, number_of_responses=1, presence_penalty=0.0, seed=None, stop=None, stream=False, temperature=0.0, top_p=1.0, user=None, response_format=None, tools=None, tool_choice=None, function_call=None, functions=None, messages=None, extra_body=None), chat_prompt_template=None)})}), ai_service=AzureChatCompletion(ai_model_id='atttestgpt35turbo', client=<openai.lib.azure.AsyncAzureOpenAI object at 0x000001A4FDBB9940>, ai_model_type=<OpenAIModelTypes.CHAT: 'chat'>, prompt_tokens=0, completion_tokens=0, total_tokens=0), prompt_execution_settings=AzureChatPromptExecutionSettings(service_id=None, extension_data={}, ai_model_id=None, frequency_penalty=0.0, logit_bias={}, max_tokens=256, number_of_responses=1, presence_penalty=0.0, seed=None, stop=None, stream=False, temperature=0.0, top_p=1.0, user=None, response_format=None, tools=None, tool_choice=None, function_call=None, functions=None, messages=None, extra_body=None), chat_prompt_template=None)"
      ]
     },
     "execution_count": 5,
     "metadata": {},
     "output_type": "execute_result"
    }
   ],
   "source": [
    "weatherFunc"
   ]
  },
  {
   "cell_type": "code",
   "execution_count": 6,
   "metadata": {},
   "outputs": [],
   "source": [
    "result = await weatherFunc.invoke(\"Which is the capital of India\")"
   ]
  },
  {
   "cell_type": "code",
   "execution_count": 7,
   "metadata": {},
   "outputs": [
    {
     "name": "stdout",
     "output_type": "stream",
     "text": [
      "The capital of India is New Delhi.\n"
     ]
    }
   ],
   "source": [
    "print(result)"
   ]
  },
  {
   "cell_type": "code",
   "execution_count": null,
   "metadata": {},
   "outputs": [],
   "source": []
  },
  {
   "cell_type": "code",
   "execution_count": null,
   "metadata": {},
   "outputs": [],
   "source": [
    "weatherFunction =  weatherFunction[\"getCityWeather\"]"
   ]
  },
  {
   "cell_type": "code",
   "execution_count": null,
   "metadata": {},
   "outputs": [],
   "source": []
  },
  {
   "cell_type": "code",
   "execution_count": null,
   "metadata": {},
   "outputs": [],
   "source": []
  },
  {
   "cell_type": "code",
   "execution_count": null,
   "metadata": {},
   "outputs": [],
   "source": []
  },
  {
   "cell_type": "code",
   "execution_count": null,
   "metadata": {},
   "outputs": [],
   "source": [
    "\n",
    "tasks_plugin = kernel.import_plugin(Tasks(), \"WeatherPlugin\")\n"
   ]
  },
  {
   "cell_type": "code",
   "execution_count": null,
   "metadata": {},
   "outputs": [],
   "source": [
    "weather_function = [\"Bangalore\"]"
   ]
  }
 ],
 "metadata": {
  "kernelspec": {
   "display_name": "Python 3",
   "language": "python",
   "name": "python3"
  },
  "language_info": {
   "codemirror_mode": {
    "name": "ipython",
    "version": 3
   },
   "file_extension": ".py",
   "mimetype": "text/x-python",
   "name": "python",
   "nbconvert_exporter": "python",
   "pygments_lexer": "ipython3",
   "version": "3.9.18"
  }
 },
 "nbformat": 4,
 "nbformat_minor": 2
}
